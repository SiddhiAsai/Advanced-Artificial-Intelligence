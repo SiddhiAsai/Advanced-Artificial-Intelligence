{
  "nbformat": 4,
  "nbformat_minor": 0,
  "metadata": {
    "colab": {
      "provenance": [],
      "authorship_tag": "ABX9TyOdwiDP6KVvNGV15fIIsUL3",
      "include_colab_link": true
    },
    "kernelspec": {
      "name": "python3",
      "display_name": "Python 3"
    },
    "language_info": {
      "name": "python"
    }
  },
  "cells": [
    {
      "cell_type": "markdown",
      "metadata": {
        "id": "view-in-github",
        "colab_type": "text"
      },
      "source": [
        "<a href=\"https://colab.research.google.com/github/SiddhiAsai/Advanced-Artificial-Intelligence/blob/main/AAI(Prac7).ipynb\" target=\"_parent\"><img src=\"https://colab.research.google.com/assets/colab-badge.svg\" alt=\"Open In Colab\"/></a>"
      ]
    },
    {
      "cell_type": "code",
      "execution_count": 6,
      "metadata": {
        "colab": {
          "base_uri": "https://localhost:8080/",
          "height": 489
        },
        "id": "ikDG4d7kcUox",
        "outputId": "463e0bcd-909f-424d-8f70-0850dcb6c23b"
      },
      "outputs": [
        {
          "output_type": "stream",
          "name": "stdout",
          "text": [
            "Robot stopped at position (2, 3) facing N.\n"
          ]
        },
        {
          "output_type": "display_data",
          "data": {
            "text/plain": [
              "<Figure size 640x480 with 1 Axes>"
            ],
            "image/png": "[encoded data removed]"
          },
          "metadata": {}
        }
      ],
      "source": [
        "import matplotlib.pyplot as plt\n",
        "import time\n",
        "\n",
        "class SimpleRobot:\n",
        "    def __init__(self):\n",
        "        self.x = 0\n",
        "        self.y = 0\n",
        "        self.direction = 'N'  # N, E, S, W\n",
        "        self.path = [(self.x, self.y)]\n",
        "\n",
        "    def move_forward(self):\n",
        "        if self.direction == 'N':\n",
        "            self.y += 1\n",
        "        elif self.direction == 'E':\n",
        "            self.x += 1\n",
        "        elif self.direction == 'S':\n",
        "            self.y -= 1\n",
        "        elif self.direction == 'W':\n",
        "            self.x -= 1\n",
        "        self.path.append((self.x, self.y))\n",
        "\n",
        "    def move_backward(self):\n",
        "        if self.direction == 'N':\n",
        "            self.y -= 1\n",
        "        elif self.direction == 'E':\n",
        "            self.x -= 1\n",
        "        elif self.direction == 'S':\n",
        "            self.y += 1\n",
        "        elif self.direction == 'W':\n",
        "            self.x += 1\n",
        "        self.path.append((self.x, self.y))\n",
        "\n",
        "    def turn_left(self):\n",
        "        directions = ['N', 'W', 'S', 'E']\n",
        "        idx = directions.index(self.direction)\n",
        "        self.direction = directions[(idx + 1) % 4]\n",
        "\n",
        "    def turn_right(self):\n",
        "        directions = ['N', 'E', 'S', 'W']\n",
        "        idx = directions.index(self.direction)\n",
        "        self.direction = directions[(idx + 1) % 4]\n",
        "\n",
        "    def stop(self):\n",
        "        print(f\"Robot stopped at position ({self.x}, {self.y}) facing {self.direction}.\")\n",
        "\n",
        "    def show_path(self):\n",
        "        xs, ys = zip(*self.path)\n",
        "        plt.plot(xs, ys, marker='o', color='blue')\n",
        "        plt.title(\"Robot Movement Path\")\n",
        "        plt.xlabel(\"X\")\n",
        "        plt.ylabel(\"Y\")\n",
        "        plt.grid(True)\n",
        "        plt.axis('equal')\n",
        "        plt.show()\n",
        "\n",
        "robot = SimpleRobot()\n",
        "\n",
        "# Move to (2, 3) facing North\n",
        "robot.move_forward()   # (0,1)\n",
        "robot.turn_right()     # Face East\n",
        "robot.move_forward()   # (1,1)\n",
        "robot.move_forward()   # (2,1)\n",
        "robot.turn_left()      # Face North\n",
        "robot.move_forward()   # (2,2)\n",
        "robot.move_forward()   # (2,3)\n",
        "robot.stop()\n",
        "robot.show_path()\n"
      ]
    }
  ]
}