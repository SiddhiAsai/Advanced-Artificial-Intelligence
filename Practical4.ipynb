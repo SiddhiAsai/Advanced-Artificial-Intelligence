{
  "nbformat": 4,
  "nbformat_minor": 0,
  "metadata": {
    "colab": {
      "provenance": [],
      "authorship_tag": "ABX9TyPu79WhmQ+jGw4RpOzM+OZd",
      "include_colab_link": true
    },
    "kernelspec": {
      "name": "python3",
      "display_name": "Python 3"
    },
    "language_info": {
      "name": "python"
    }
  },
  "cells": [
    {
      "cell_type": "markdown",
      "metadata": {
        "id": "view-in-github",
        "colab_type": "text"
      },
      "source": [
        "<a href=\"https://colab.research.google.com/github/SiddhiAsai/Advanced-Artificial-Intelligence/blob/main/Practical4.ipynb\" target=\"_parent\"><img src=\"https://colab.research.google.com/assets/colab-badge.svg\" alt=\"Open In Colab\"/></a>"
      ]
    },
    {
      "cell_type": "code",
      "execution_count": 8,
      "metadata": {
        "colab": {
          "base_uri": "https://localhost:8080/"
        },
        "id": "S_pUhbyZQEbJ",
        "outputId": "48b8fa8a-6bf8-4036-fb6b-c9cd0dae873b"
      },
      "outputs": [
        {
          "output_type": "stream",
          "name": "stdout",
          "text": [
            "   Age_Difference  Is_Direct_Relative  Relation\n",
            "0              25                   1         1\n",
            "1              30                   1         1\n",
            "2              18                   1         1\n",
            "3              15                   0         0\n",
            "4              40                   1         1\n",
            "5              35                   1         1\n",
            "6              12                   0         0\n",
            "7              50                   1         1\n",
            "8              60                   1         2\n",
            "9              65                   1         2\n",
            "Decision Tree Rules:\n",
            "\n",
            "|--- Is_Direct_Relative <= 0.50\n",
            "|   |--- class: 0\n",
            "|--- Is_Direct_Relative >  0.50\n",
            "|   |--- Age_Difference <= 55.00\n",
            "|   |   |--- class: 1\n",
            "|   |--- Age_Difference >  55.00\n",
            "|   |   |--- class: 2\n",
            "\n",
            "\n",
            "Test Results:\n",
            "Test Case 1: [28  1] -> parents\n",
            "Test Case 2: [10  1] -> parents\n",
            "Test Case 3: [45  1] -> parents\n",
            "Test Case 4: [18  0] -> child\n",
            "Test Case 5: [65  2] -> grandparents\n",
            "Test Case 6: [61  2] -> grandparents\n"
          ]
        },
        {
          "output_type": "stream",
          "name": "stderr",
          "text": [
            "/usr/local/lib/python3.11/dist-packages/sklearn/utils/validation.py:2739: UserWarning: X does not have valid feature names, but DecisionTreeClassifier was fitted with feature names\n",
            "  warnings.warn(\n"
          ]
        }
      ],
      "source": [
        "import numpy as np\n",
        "import pandas as pd\n",
        "from sklearn.tree import DecisionTreeClassifier, export_text\n",
        "# Sample Dataset\n",
        "data = {\n",
        "    \"Age_Difference\": [25, 30, 18, 15, 40, 35, 12, 50, 60,65 ],\n",
        "    \"Is_Direct_Relative\": [1, 1, 1, 0, 1, 1, 0, 1,1,1],  # 1 = Yes, 0 = No\n",
        "    \"Relation\": [1, 1, 1, 0, 1, 1, 0, 1,2,2]  # 2=grandparents 1 = Parent, 0 = Not a Parent\n",
        "}\n",
        "# Convert to DataFrame\n",
        "df = pd.DataFrame(data)\n",
        "print(df)\n",
        "# Features and Labels\n",
        "X = df[[\"Age_Difference\", \"Is_Direct_Relative\"]]\n",
        "y = df[\"Relation\"]\n",
        "# Train Decision Tree Model\n",
        "model = DecisionTreeClassifier(criterion=\"entropy\")\n",
        "model.fit(X, y)\n",
        "# Display Decision Tree Rules\n",
        "tree_rules = export_text(model, feature_names=[\"Age_Difference\", \"Is_Direct_Relative\"])\n",
        "print(\"Decision Tree Rules:\\n\")\n",
        "print(tree_rules)\n",
        "# Test the Model\n",
        "test_data = np.array([[28, 1], [10, 1], [45, 1], [18, 0],[65,2],[61,2]])  # Test Cases\n",
        "predictions = model.predict(test_data)\n",
        "relation_map={2:\"grandparents\",1:\"parents\",0:\"child\"}\n",
        "print(\"\\nTest Results:\")\n",
        "for i, pred in enumerate(predictions):\n",
        "    relation = relation_map[pred]\n",
        "    print(f\"Test Case {i + 1}: {test_data[i]} -> {relation}\")\n"
      ]
    }
  ]
}